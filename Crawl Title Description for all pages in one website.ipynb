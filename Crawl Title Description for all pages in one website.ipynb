{
 "cells": [
  {
   "cell_type": "code",
   "execution_count": 1,
   "metadata": {},
   "outputs": [],
   "source": [
    "import pandas as pd\n",
    "import numpy as np \n",
    "import requests\n",
    "from bs4 import BeautifulSoup\n",
    "import urllib\n",
    "import re  \n",
    "from selenium.webdriver.common.by import By\n",
    "from selenium import webdriver\n",
    "from selenium.webdriver.chrome.options import Options\n",
    "from webdriver_manager.chrome import ChromeDriverManager\n",
    "from random import randint\n",
    "from datetime import datetime\n",
    "from time import sleep"
   ]
  },
  {
   "cell_type": "markdown",
   "metadata": {},
   "source": [
    "## 1. Get page url from sitemap"
   ]
  },
  {
   "cell_type": "code",
   "execution_count": 2,
   "metadata": {},
   "outputs": [
    {
     "name": "stdout",
     "output_type": "stream",
     "text": [
      "<?xml version=\"1.0\" encoding=\"utf-8\"?>\n",
      "<html>\n",
      " <body>\n",
      "  <urlset xmlns=\"http://www.sitemaps.org/schemas/sitemap/0.9\" xmlns:xsi=\"http://www.w3.org/2001/XMLSchema-instance\" xsi:schemalocation=\"http://www.sitemaps.org/schemas/sitemap/0.9 http://www.sitemaps.org/schemas/sitemap/0.9/sitemap.xsd\">\n",
      "   <url>\n",
      "    <loc>\n",
      "     https://www.perfectcorp.com/\n",
      "    </loc>\n",
      "    <lastmod>\n",
      "     2020-05-04\n",
      "    </lastmod>\n",
      "    <changefreq>\n",
      "     yearly\n",
      "    </changefreq>\n",
      "    <priority>\n",
      "     0.5\n",
      "    </priority>\n",
      "   </url>\n",
      "   <url>\n",
      "    <loc>\n",
      "     https://www.perfectcorp.com/\n",
      "    </loc>\n",
      "   </url>\n",
      "   <url>\n",
      "    <loc>\n",
      "     https://www.perfectcorp.com/business\n",
      "    </loc>\n",
      "   </url>\n",
      "   <url>\n",
      "    <loc>\n",
      "     https://www.perfectcorp.com/business/beauty-tech-forum-master-class\n",
      "    </loc>\n",
      "   </url>\n",
      "   <url>\n",
      "    <loc>\n",
      "     https://www.perfectcorp.com/business/color-list\n",
      "    </loc>\n",
      "   </url>\n",
      "   <url>\n",
      "    <loc>\n",
      "     https://www.perfectcorp.com/business/contact-us\n",
      "    </loc>\n",
      "   </url>\n",
      "   <url>\n",
      "    <loc>\n",
      "     https://www.perfectcorp.com/business/contact-us/sales\n",
      "    </loc>\n",
      "   </url>\n",
      "   <url>\n",
      "    <loc>\n",
      "     https://www.perfectcorp.com/business/contact-us/sales?numberOfEmployees=C999\n",
      "    </loc>\n",
      "   </url>\n",
      "   <url>\n",
      "    <loc>\n",
      "     https://www.perfectcorp.com/business/contact-us/support\n",
      "    </loc>\n",
      "   </url>\n",
      "   <url>\n",
      "    <loc>\n",
      "     https://www.perfectcorp.com/business/faq\n",
      "    </loc>\n",
      "   </url>\n",
      "   <url>\n",
      "    <loc>\n",
      "     https://www.perfectcorp.com/business/info/aboutus\n",
      "    </loc>\n",
      "   </url>\n",
      "   <url>\n",
      "    <loc>\n",
      "     https://www.perfectcorp.com/business/info/awards\n",
      "    </loc>\n",
      "   </url>\n",
      "   <url>\n",
      "    <loc>\n",
      "     https://www.perfectcorp.com/business/news/list\n",
      "    </loc>\n",
      "   </url>\n",
      "   <url>\n",
      "    <loc>\n",
      "     https://www.perfectcorp.com/business/plan\n",
      "    </loc>\n",
      "   </url>\n",
      "   <url>\n",
      "    <loc>\n",
      "     https://www.perfectcorp.com/business/privacy\n",
      "    </loc>\n",
      "   </url>\n",
      "   <url>\n",
      "    <loc>\n",
      "     https://www.perfectcorp.com/business/products/ai-facial-recognition\n",
      "    </loc>\n",
      "   </url>\n",
      "   <url>\n",
      "    <loc>\n",
      "     https://www.perfectcorp.com/business/products/ai-product-recommendation\n",
      "    </loc>\n",
      "   </url>\n",
      "   <url>\n",
      "    <loc>\n",
      "     https://www.perfectcorp.com/business/products/ai-shade-finder\n",
      "    </loc>\n",
      "   </url>\n",
      "   <url>\n",
      "    <loc>\n",
      "     https://www.perfectcorp.com/business/products/ai-skin-diagnostic\n",
      "    </loc>\n",
      "   </url>\n",
      "   <url>\n",
      "    <loc>\n",
      "     https://www.perfectcorp.com/business/products/ba-1-on-1\n",
      "    </loc>\n",
      "   </url>\n",
      "   <url>\n",
      "    <loc>\n",
      "     https://www.perfectcorp.com/business/products/in-store-barcode\n",
      "    </loc>\n",
      "   </url>\n",
      "   <url>\n",
      "    <loc>\n",
      "     https://www.perfectcorp.com/business/products/live-ar-training\n",
      "    </loc>\n",
      "   </url>\n",
      "   <url>\n",
      "    <loc>\n",
      "     https://www.perfectcorp.com/business/products/live-hair-color\n",
      "    </loc>\n",
      "   </url>\n",
      "   <url>\n",
      "    <loc>\n",
      "     https://www.perfectcorp.com/business/products/live-streaming\n",
      "    </loc>\n",
      "   </url>\n",
      "   <url>\n",
      "    <loc>\n",
      "     https://www.perfectcorp.com/business/products/virtual-accessories\n",
      "    </loc>\n",
      "   </url>\n",
      "   <url>\n",
      "    <loc>\n",
      "     https://www.perfectcorp.com/business/products/virtual-makeup\n",
      "    </loc>\n",
      "   </url>\n",
      "   <url>\n",
      "    <loc>\n",
      "     https://www.perfectcorp.com/business/services/app-listing\n",
      "    </loc>\n",
      "   </url>\n",
      "   <url>\n",
      "    <loc>\n",
      "     https://www.perfectcorp.com/business/services/facebook-ar-chatbot\n",
      "    </loc>\n",
      "   </url>\n",
      "   <url>\n",
      "    <loc>\n",
      "     https://www.perfectcorp.com/business/services/in-store-consultation\n",
      "    </loc>\n",
      "   </url>\n",
      "   <url>\n",
      "    <loc>\n",
      "     https://www.perfectcorp.com/business/services/sdk\n",
      "    </loc>\n",
      "   </url>\n",
      "   <url>\n",
      "    <loc>\n",
      "     https://www.perfectcorp.com/business/services/wechat-mini-program\n",
      "    </loc>\n",
      "   </url>\n",
      "   <url>\n",
      "    <loc>\n",
      "     https://www.perfectcorp.com/business/services/taobao-mini-program\n",
      "    </loc>\n",
      "   </url>\n",
      "   <url>\n",
      "    <loc>\n",
      "     https://www.perfectcorp.com/business/services/youcam-4-web\n",
      "    </loc>\n",
      "   </url>\n",
      "   <url>\n",
      "    <loc>\n",
      "     https://www.perfectcorp.com/business/showcase/look\n",
      "    </loc>\n",
      "   </url>\n",
      "   <url>\n",
      "    <loc>\n",
      "     https://www.perfectcorp.com/business/showcase/shadefinder/home\n",
      "    </loc>\n",
      "   </url>\n",
      "   <url>\n",
      "    <loc>\n",
      "     https://www.perfectcorp.com/business/showcase/skincare/home\n",
      "    </loc>\n",
      "   </url>\n",
      "   <url>\n",
      "    <loc>\n",
      "     https://www.perfectcorp.com/business/showcase/lip-color\n",
      "    </loc>\n",
      "   </url>\n",
      "   <url>\n",
      "    <loc>\n",
      "     https://www.perfectcorp.com/business/showcase/live-shows\n",
      "    </loc>\n",
      "   </url>\n",
      "   <url>\n",
      "    <loc>\n",
      "     https://www.perfectcorp.com/business/showcase/eye-color\n",
      "    </loc>\n",
      "   </url>\n",
      "   <url>\n",
      "    <loc>\n",
      "     https://www.perfectcorp.com/business/showcase/eyelashes\n",
      "    </loc>\n",
      "   </url>\n",
      "   <url>\n",
      "    <loc>\n",
      "     https://www.perfectcorp.com/business/showcase/eye-liner\n",
      "    </loc>\n",
      "   </url>\n",
      "   <url>\n",
      "    <loc>\n",
      "     https://www.perfectcorp.com/business/showcase/eye-wear\n",
      "    </loc>\n",
      "   </url>\n",
      "   <url>\n",
      "    <loc>\n",
      "     https://www.perfectcorp.com/business/showcase/eye-shadow\n",
      "    </loc>\n",
      "   </url>\n",
      "   <url>\n",
      "    <loc>\n",
      "     https://www.perfectcorp.com/business/showcase/blush\n",
      "    </loc>\n",
      "   </url>\n",
      "   <url>\n",
      "    <loc>\n",
      "     https://www.perfectcorp.com/business/showcase/foundation\n",
      "    </loc>\n",
      "   </url>\n",
      "   <url>\n",
      "    <loc>\n",
      "     https://www.perfectcorp.com/business/showcase/hair-color\n",
      "    </loc>\n",
      "   </url>\n",
      "   <url>\n",
      "    <loc>\n",
      "     https://www.perfectcorp.com/business/solutions/enterprise\n",
      "    </loc>\n",
      "   </url>\n",
      "   <url>\n",
      "    <loc>\n",
      "     https://www.perfectcorp.com/business/solutions/smb\n",
      "    </loc>\n",
      "   </url>\n",
      "   <url>\n",
      "    <loc>\n",
      "     https://www.perfectcorp.com/business/successstory/list\n",
      "    </loc>\n",
      "   </url>\n",
      "   <url>\n",
      "    <loc>\n",
      "     https://www.perfectcorp.com/business/terms\n",
      "    </loc>\n",
      "   </url>\n",
      "   <url>\n",
      "    <loc>\n",
      "     https://www.perfectcorp.com/business/user/forgot-password\n",
      "    </loc>\n",
      "   </url>\n",
      "   <url>\n",
      "    <loc>\n",
      "     https://www.perfectcorp.com/business/user/free-trial\n",
      "    </loc>\n",
      "   </url>\n",
      "   <url>\n",
      "    <loc>\n",
      "     https://www.perfectcorp.com/business/user/free-trial?subscriptionType=ESSENTIAL_TRIAL\n",
      "    </loc>\n",
      "   </url>\n",
      "   <url>\n",
      "    <loc>\n",
      "     https://www.perfectcorp.com/business/user/free-trial?subscriptionType=PREMIUM_TRIAL\n",
      "    </loc>\n",
      "   </url>\n",
      "   <url>\n",
      "    <loc>\n",
      "     https://www.perfectcorp.com/business/user/setup-password\n",
      "    </loc>\n",
      "   </url>\n",
      "   <url>\n",
      "    <loc>\n",
      "     https://www.perfectcorp.com/business/user/sign-in\n",
      "    </loc>\n",
      "   </url>\n",
      "   <url>\n",
      "    <loc>\n",
      "     https://www.perfectcorp.com/business/user/sign-up\n",
      "    </loc>\n",
      "   </url>\n",
      "   <url>\n",
      "    <loc>\n",
      "     https://www.perfectcorp.com/business/user/sign-up?subscriptionType=ESSENTIAL\n",
      "    </loc>\n",
      "   </url>\n",
      "   <url>\n",
      "    <loc>\n",
      "     https://www.perfectcorp.com/business/user/sign-up?subscriptionType=ESSENTIAL&amp;recurringType=ANNUAL&amp;currencyType=USD\n",
      "    </loc>\n",
      "   </url>\n",
      "   <url>\n",
      "    <loc>\n",
      "     https://www.perfectcorp.com/business/user/sign-up?subscriptionType=ESSENTIAL&amp;recurringType=QUARTER&amp;currencyType=USD\n",
      "    </loc>\n",
      "   </url>\n",
      "   <url>\n",
      "    <loc>\n",
      "     https://www.perfectcorp.com/business/user/sign-up?subscriptionType=PREMIUM\n",
      "    </loc>\n",
      "   </url>\n",
      "   <url>\n",
      "    <loc>\n",
      "     https://www.perfectcorp.com/business/user/sign-up?subscriptionType=PREMIUM&amp;recurringType=ANNUAL&amp;currencyType=USD\n",
      "    </loc>\n",
      "   </url>\n",
      "   <url>\n",
      "    <loc>\n",
      "     https://www.perfectcorp.com/business/user/sign-up?subscriptionType=PREMIUM&amp;recurringType=QUARTER&amp;amp;currencyType=USD\n",
      "    </loc>\n",
      "   </url>\n",
      "   <url>\n",
      "    <loc>\n",
      "     https://www.perfectcorp.com/business/videos\n",
      "    </loc>\n",
      "   </url>\n",
      "   <url>\n",
      "    <loc>\n",
      "     https://www.perfectcorp.com/business/blog\n",
      "    </loc>\n",
      "   </url>\n",
      "   <url>\n",
      "    <loc>\n",
      "     https://www.perfectcorp.com/business/blog/makeup/virtual-makeup-try-on-solutions-for-beauty-indie-brands\n",
      "    </loc>\n",
      "   </url>\n",
      "   <url>\n",
      "    <loc>\n",
      "     https://www.perfectcorp.com/business/blog/commerce/power-of-digital-first-beauty-community\n",
      "    </loc>\n",
      "   </url>\n",
      "   <url>\n",
      "    <loc>\n",
      "     https://www.perfectcorp.com/business/blog/retail/no-touch-solutions-for-beauty-retail\n",
      "    </loc>\n",
      "   </url>\n",
      "   <url>\n",
      "    <loc>\n",
      "     https://www.perfectcorp.com/business/blog/ai-skincare/how-ai-Innovation-is-creating-a-digital-skincare-experience\n",
      "    </loc>\n",
      "   </url>\n",
      "   <url>\n",
      "    <loc>\n",
      "     https://www.perfectcorp.com/business/blog/commerce/acquire-and-engage-customers-using-beauty-tech\n",
      "    </loc>\n",
      "   </url>\n",
      "   <url>\n",
      "    <loc>\n",
      "     https://www.perfectcorp.com/business/blog/commerce/the-surge-of-beauty-ar-in-e-commerce\n",
      "    </loc>\n",
      "   </url>\n",
      "   <url>\n",
      "    <loc>\n",
      "     https://www.perfectcorp.com/business/blog/on-demand-beauty-tech/digital-surge-in-remote-beauty-training-solutions\n",
      "    </loc>\n",
      "   </url>\n",
      "   <url>\n",
      "    <loc>\n",
      "     https://www.perfectcorp.com/business/blog/on-demand-beauty-tech/online-beauty-advisor-keeps-beauty-brands-connected-with-consumers\n",
      "    </loc>\n",
      "   </url>\n",
      "   <url>\n",
      "    <loc>\n",
      "     https://www.perfectcorp.com/business/blog/general/beauty-industry-overcoming-disruption-during-covid-19\n",
      "    </loc>\n",
      "   </url>\n",
      "   <url>\n",
      "    <loc>\n",
      "     https://www.perfectcorp.com/consumer\n",
      "    </loc>\n",
      "   </url>\n",
      "   <url>\n",
      "    <loc>\n",
      "     https://www.perfectcorp.com/consumer/about-us\n",
      "    </loc>\n",
      "   </url>\n",
      "   <url>\n",
      "    <loc>\n",
      "     https://www.perfectcorp.com/consumer/appdownload\n",
      "    </loc>\n",
      "   </url>\n",
      "   <url>\n",
      "    <loc>\n",
      "     https://www.perfectcorp.com/consumer/apps\n",
      "    </loc>\n",
      "   </url>\n",
      "   <url>\n",
      "    <loc>\n",
      "     https://www.perfectcorp.com/consumer/apps/y4b\n",
      "    </loc>\n",
      "   </url>\n",
      "   <url>\n",
      "    <loc>\n",
      "     https://www.perfectcorp.com/consumer/apps/ycf\n",
      "    </loc>\n",
      "   </url>\n",
      "   <url>\n",
      "    <loc>\n",
      "     https://www.perfectcorp.com/consumer/apps/ycn\n",
      "    </loc>\n",
      "   </url>\n",
      "   <url>\n",
      "    <loc>\n",
      "     https://www.perfectcorp.com/consumer/apps/ycp\n",
      "    </loc>\n",
      "   </url>\n",
      "   <url>\n",
      "    <loc>\n",
      "     https://www.perfectcorp.com/consumer/apps/ycv\n",
      "    </loc>\n",
      "   </url>\n",
      "   <url>\n",
      "    <loc>\n",
      "     https://www.perfectcorp.com/consumer/apps/ymk\n",
      "    </loc>\n",
      "   </url>\n",
      "   <url>\n",
      "    <loc>\n",
      "     https://www.perfectcorp.com/consumer/contact-us\n",
      "    </loc>\n",
      "   </url>\n",
      "   <url>\n",
      "    <loc>\n",
      "     https://www.perfectcorp.com/consumer/news/list\n",
      "    </loc>\n",
      "   </url>\n",
      "   <url>\n",
      "    <loc>\n",
      "     https://www.perfectcorp.com/consumer/technologies\n",
      "    </loc>\n",
      "   </url>\n",
      "   <url>\n",
      "    <loc>\n",
      "     https://www.perfectcorp.com/consumer/technologies/face-ai\n",
      "    </loc>\n",
      "   </url>\n",
      "   <url>\n",
      "    <loc>\n",
      "     https://www.perfectcorp.com/consumer/technologies/face-detection-tracking\n",
      "    </loc>\n",
      "   </url>\n",
      "   <url>\n",
      "    <loc>\n",
      "     https://www.perfectcorp.com/consumer/technologies/live-3d-face-ar\n",
      "    </loc>\n",
      "   </url>\n",
      "   <url>\n",
      "    <loc>\n",
      "     https://www.perfectcorp.com/consumer/technologies/makeup-ar\n",
      "    </loc>\n",
      "   </url>\n",
      "   <url>\n",
      "    <loc>\n",
      "     https://www.perfectcorp.com/consumer/technologies/skincare-ar\n",
      "    </loc>\n",
      "   </url>\n",
      "   <url>\n",
      "    <loc>\n",
      "     https://www.perfectcorp.com/document-center/en/\n",
      "    </loc>\n",
      "   </url>\n",
      "   <url>\n",
      "    <loc>\n",
      "     https://www.perfectcorp.com/document-center/ja/\n",
      "    </loc>\n",
      "   </url>\n",
      "  </urlset>\n",
      " </body>\n",
      "</html>\n"
     ]
    }
   ],
   "source": [
    "url = 'https://www.perfectcorp.com/sitemap.xml'\n",
    "web_content = requests.get(url).text    # get website by using a get request\n",
    "soup = BeautifulSoup(web_content,'lxml')    # use lxml to process the html\n",
    "# lxml - the most feature-rich and easy-to-use library for processing XML and HTML in the Python language.\n",
    "print (soup.prettify())"
   ]
  },
  {
   "cell_type": "code",
   "execution_count": 3,
   "metadata": {},
   "outputs": [],
   "source": [
    "### retreive page url from sitemap and add into a list \n",
    "l=[]\n",
    "\n",
    "for item in soup.find_all('url'):\n",
    "    l.append(item.string)"
   ]
  },
  {
   "cell_type": "code",
   "execution_count": 4,
   "metadata": {},
   "outputs": [
    {
     "data": {
      "text/plain": [
       "['https://www.perfectcorp.com/',\n",
       " 'https://www.perfectcorp.com/business',\n",
       " 'https://www.perfectcorp.com/business/beauty-tech-forum-master-class',\n",
       " 'https://www.perfectcorp.com/business/color-list',\n",
       " 'https://www.perfectcorp.com/business/contact-us',\n",
       " 'https://www.perfectcorp.com/business/contact-us/sales',\n",
       " 'https://www.perfectcorp.com/business/contact-us/sales?numberOfEmployees=C999',\n",
       " 'https://www.perfectcorp.com/business/contact-us/support',\n",
       " 'https://www.perfectcorp.com/business/faq',\n",
       " 'https://www.perfectcorp.com/business/info/aboutus',\n",
       " 'https://www.perfectcorp.com/business/info/awards',\n",
       " 'https://www.perfectcorp.com/business/news/list',\n",
       " 'https://www.perfectcorp.com/business/plan',\n",
       " 'https://www.perfectcorp.com/business/privacy',\n",
       " 'https://www.perfectcorp.com/business/products/ai-facial-recognition',\n",
       " 'https://www.perfectcorp.com/business/products/ai-product-recommendation',\n",
       " 'https://www.perfectcorp.com/business/products/ai-shade-finder',\n",
       " 'https://www.perfectcorp.com/business/products/ai-skin-diagnostic',\n",
       " 'https://www.perfectcorp.com/business/products/ba-1-on-1',\n",
       " 'https://www.perfectcorp.com/business/products/in-store-barcode',\n",
       " 'https://www.perfectcorp.com/business/products/live-ar-training',\n",
       " 'https://www.perfectcorp.com/business/products/live-hair-color',\n",
       " 'https://www.perfectcorp.com/business/products/live-streaming',\n",
       " 'https://www.perfectcorp.com/business/products/virtual-accessories',\n",
       " 'https://www.perfectcorp.com/business/products/virtual-makeup',\n",
       " 'https://www.perfectcorp.com/business/services/app-listing',\n",
       " 'https://www.perfectcorp.com/business/services/facebook-ar-chatbot',\n",
       " 'https://www.perfectcorp.com/business/services/in-store-consultation',\n",
       " 'https://www.perfectcorp.com/business/services/sdk',\n",
       " 'https://www.perfectcorp.com/business/services/wechat-mini-program',\n",
       " 'https://www.perfectcorp.com/business/services/taobao-mini-program',\n",
       " 'https://www.perfectcorp.com/business/services/youcam-4-web',\n",
       " 'https://www.perfectcorp.com/business/showcase/look',\n",
       " 'https://www.perfectcorp.com/business/showcase/shadefinder/home',\n",
       " 'https://www.perfectcorp.com/business/showcase/skincare/home',\n",
       " 'https://www.perfectcorp.com/business/showcase/lip-color',\n",
       " 'https://www.perfectcorp.com/business/showcase/live-shows',\n",
       " 'https://www.perfectcorp.com/business/showcase/eye-color',\n",
       " 'https://www.perfectcorp.com/business/showcase/eyelashes',\n",
       " 'https://www.perfectcorp.com/business/showcase/eye-liner',\n",
       " 'https://www.perfectcorp.com/business/showcase/eye-wear',\n",
       " 'https://www.perfectcorp.com/business/showcase/eye-shadow',\n",
       " 'https://www.perfectcorp.com/business/showcase/blush',\n",
       " 'https://www.perfectcorp.com/business/showcase/foundation',\n",
       " 'https://www.perfectcorp.com/business/showcase/hair-color',\n",
       " 'https://www.perfectcorp.com/business/solutions/enterprise',\n",
       " 'https://www.perfectcorp.com/business/solutions/smb',\n",
       " 'https://www.perfectcorp.com/business/successstory/list',\n",
       " 'https://www.perfectcorp.com/business/terms',\n",
       " 'https://www.perfectcorp.com/business/user/forgot-password',\n",
       " 'https://www.perfectcorp.com/business/user/free-trial',\n",
       " 'https://www.perfectcorp.com/business/user/free-trial?subscriptionType=ESSENTIAL_TRIAL',\n",
       " 'https://www.perfectcorp.com/business/user/free-trial?subscriptionType=PREMIUM_TRIAL',\n",
       " 'https://www.perfectcorp.com/business/user/setup-password',\n",
       " 'https://www.perfectcorp.com/business/user/sign-in',\n",
       " 'https://www.perfectcorp.com/business/user/sign-up',\n",
       " 'https://www.perfectcorp.com/business/user/sign-up?subscriptionType=ESSENTIAL',\n",
       " 'https://www.perfectcorp.com/business/user/sign-up?subscriptionType=ESSENTIAL&recurringType=ANNUAL&currencyType=USD',\n",
       " 'https://www.perfectcorp.com/business/user/sign-up?subscriptionType=ESSENTIAL&recurringType=QUARTER&currencyType=USD',\n",
       " 'https://www.perfectcorp.com/business/user/sign-up?subscriptionType=PREMIUM',\n",
       " 'https://www.perfectcorp.com/business/user/sign-up?subscriptionType=PREMIUM&recurringType=ANNUAL&currencyType=USD',\n",
       " 'https://www.perfectcorp.com/business/user/sign-up?subscriptionType=PREMIUM&recurringType=QUARTER&amp;currencyType=USD',\n",
       " 'https://www.perfectcorp.com/business/videos',\n",
       " 'https://www.perfectcorp.com/business/blog',\n",
       " 'https://www.perfectcorp.com/business/blog/makeup/virtual-makeup-try-on-solutions-for-beauty-indie-brands',\n",
       " 'https://www.perfectcorp.com/business/blog/commerce/power-of-digital-first-beauty-community',\n",
       " 'https://www.perfectcorp.com/business/blog/retail/no-touch-solutions-for-beauty-retail',\n",
       " 'https://www.perfectcorp.com/business/blog/ai-skincare/how-ai-Innovation-is-creating-a-digital-skincare-experience',\n",
       " 'https://www.perfectcorp.com/business/blog/commerce/acquire-and-engage-customers-using-beauty-tech',\n",
       " 'https://www.perfectcorp.com/business/blog/commerce/the-surge-of-beauty-ar-in-e-commerce',\n",
       " 'https://www.perfectcorp.com/business/blog/on-demand-beauty-tech/digital-surge-in-remote-beauty-training-solutions',\n",
       " 'https://www.perfectcorp.com/business/blog/on-demand-beauty-tech/online-beauty-advisor-keeps-beauty-brands-connected-with-consumers',\n",
       " 'https://www.perfectcorp.com/business/blog/general/beauty-industry-overcoming-disruption-during-covid-19',\n",
       " 'https://www.perfectcorp.com/consumer',\n",
       " 'https://www.perfectcorp.com/consumer/about-us',\n",
       " 'https://www.perfectcorp.com/consumer/appdownload',\n",
       " 'https://www.perfectcorp.com/consumer/apps',\n",
       " 'https://www.perfectcorp.com/consumer/apps/y4b',\n",
       " 'https://www.perfectcorp.com/consumer/apps/ycf',\n",
       " 'https://www.perfectcorp.com/consumer/apps/ycn',\n",
       " 'https://www.perfectcorp.com/consumer/apps/ycp',\n",
       " 'https://www.perfectcorp.com/consumer/apps/ycv',\n",
       " 'https://www.perfectcorp.com/consumer/apps/ymk',\n",
       " 'https://www.perfectcorp.com/consumer/contact-us',\n",
       " 'https://www.perfectcorp.com/consumer/news/list',\n",
       " 'https://www.perfectcorp.com/consumer/technologies',\n",
       " 'https://www.perfectcorp.com/consumer/technologies/face-ai',\n",
       " 'https://www.perfectcorp.com/consumer/technologies/face-detection-tracking',\n",
       " 'https://www.perfectcorp.com/consumer/technologies/live-3d-face-ar',\n",
       " 'https://www.perfectcorp.com/consumer/technologies/makeup-ar',\n",
       " 'https://www.perfectcorp.com/consumer/technologies/skincare-ar',\n",
       " 'https://www.perfectcorp.com/document-center/en/',\n",
       " 'https://www.perfectcorp.com/document-center/ja/']"
      ]
     },
     "execution_count": 4,
     "metadata": {},
     "output_type": "execute_result"
    }
   ],
   "source": [
    "l = l[1:]\n",
    "l"
   ]
  },
  {
   "cell_type": "markdown",
   "metadata": {},
   "source": [
    "## 2. Run loops for url list to get title/description for every page"
   ]
  },
  {
   "cell_type": "code",
   "execution_count": 6,
   "metadata": {},
   "outputs": [
    {
     "name": "stderr",
     "output_type": "stream",
     "text": [
      "[WDM] - Current google-chrome version is 87.0.4280\n",
      "[WDM] - Get LATEST driver version for 87.0.4280\n",
      "[WDM] - Driver [C:\\Users\\jenny.chou\\.wdm\\drivers\\chromedriver\\win32\\87.0.4280.88\\chromedriver.exe] found in cache\n"
     ]
    },
    {
     "name": "stdout",
     "output_type": "stream",
     "text": [
      " \n"
     ]
    },
    {
     "name": "stderr",
     "output_type": "stream",
     "text": [
      "[WDM] - Current google-chrome version is 87.0.4280\n",
      "[WDM] - Get LATEST driver version for 87.0.4280\n",
      "[WDM] - Driver [C:\\Users\\jenny.chou\\.wdm\\drivers\\chromedriver\\win32\\87.0.4280.88\\chromedriver.exe] found in cache\n"
     ]
    },
    {
     "name": "stdout",
     "output_type": "stream",
     "text": [
      "https://www.perfectcorp.com/ complete on 2020-12-24 12:54:32.216485\n",
      " \n"
     ]
    },
    {
     "name": "stderr",
     "output_type": "stream",
     "text": [
      "[WDM] - Current google-chrome version is 87.0.4280\n",
      "[WDM] - Get LATEST driver version for 87.0.4280\n",
      "[WDM] - Driver [C:\\Users\\jenny.chou\\.wdm\\drivers\\chromedriver\\win32\\87.0.4280.88\\chromedriver.exe] found in cache\n"
     ]
    },
    {
     "name": "stdout",
     "output_type": "stream",
     "text": [
      "https://www.perfectcorp.com/business complete on 2020-12-24 12:54:40.293403\n",
      " \n"
     ]
    },
    {
     "name": "stderr",
     "output_type": "stream",
     "text": [
      "[WDM] - Current google-chrome version is 87.0.4280\n",
      "[WDM] - Get LATEST driver version for 87.0.4280\n",
      "[WDM] - Driver [C:\\Users\\jenny.chou\\.wdm\\drivers\\chromedriver\\win32\\87.0.4280.88\\chromedriver.exe] found in cache\n"
     ]
    },
    {
     "name": "stdout",
     "output_type": "stream",
     "text": [
      "https://www.perfectcorp.com/business/beauty-tech-forum-master-class complete on 2020-12-24 12:54:49.593339\n",
      " \n"
     ]
    },
    {
     "name": "stderr",
     "output_type": "stream",
     "text": [
      "[WDM] - Current google-chrome version is 87.0.4280\n",
      "[WDM] - Get LATEST driver version for 87.0.4280\n",
      "[WDM] - Driver [C:\\Users\\jenny.chou\\.wdm\\drivers\\chromedriver\\win32\\87.0.4280.88\\chromedriver.exe] found in cache\n"
     ]
    },
    {
     "name": "stdout",
     "output_type": "stream",
     "text": [
      "https://www.perfectcorp.com/business/color-list complete on 2020-12-24 12:54:56.967396\n",
      " \n"
     ]
    },
    {
     "name": "stderr",
     "output_type": "stream",
     "text": [
      "[WDM] - Current google-chrome version is 87.0.4280\n",
      "[WDM] - Get LATEST driver version for 87.0.4280\n",
      "[WDM] - Driver [C:\\Users\\jenny.chou\\.wdm\\drivers\\chromedriver\\win32\\87.0.4280.88\\chromedriver.exe] found in cache\n"
     ]
    },
    {
     "name": "stdout",
     "output_type": "stream",
     "text": [
      "https://www.perfectcorp.com/business/contact-us complete on 2020-12-24 12:55:02.369062\n",
      " \n"
     ]
    },
    {
     "name": "stderr",
     "output_type": "stream",
     "text": [
      "[WDM] - Current google-chrome version is 87.0.4280\n",
      "[WDM] - Get LATEST driver version for 87.0.4280\n",
      "[WDM] - Driver [C:\\Users\\jenny.chou\\.wdm\\drivers\\chromedriver\\win32\\87.0.4280.88\\chromedriver.exe] found in cache\n"
     ]
    },
    {
     "name": "stdout",
     "output_type": "stream",
     "text": [
      "https://www.perfectcorp.com/business/contact-us/sales complete on 2020-12-24 12:55:07.906607\n",
      " \n"
     ]
    },
    {
     "name": "stderr",
     "output_type": "stream",
     "text": [
      "[WDM] - Current google-chrome version is 87.0.4280\n",
      "[WDM] - Get LATEST driver version for 87.0.4280\n",
      "[WDM] - Driver [C:\\Users\\jenny.chou\\.wdm\\drivers\\chromedriver\\win32\\87.0.4280.88\\chromedriver.exe] found in cache\n"
     ]
    },
    {
     "name": "stdout",
     "output_type": "stream",
     "text": [
      "https://www.perfectcorp.com/business/contact-us/sales?numberOfEmployees=C999 complete on 2020-12-24 12:55:21.167662\n",
      " \n"
     ]
    },
    {
     "name": "stderr",
     "output_type": "stream",
     "text": [
      "[WDM] - Current google-chrome version is 87.0.4280\n",
      "[WDM] - Get LATEST driver version for 87.0.4280\n",
      "[WDM] - Driver [C:\\Users\\jenny.chou\\.wdm\\drivers\\chromedriver\\win32\\87.0.4280.88\\chromedriver.exe] found in cache\n"
     ]
    },
    {
     "name": "stdout",
     "output_type": "stream",
     "text": [
      "https://www.perfectcorp.com/business/contact-us/support complete on 2020-12-24 12:55:26.650474\n",
      " \n"
     ]
    },
    {
     "name": "stderr",
     "output_type": "stream",
     "text": [
      "[WDM] - Current google-chrome version is 87.0.4280\n",
      "[WDM] - Get LATEST driver version for 87.0.4280\n",
      "[WDM] - Driver [C:\\Users\\jenny.chou\\.wdm\\drivers\\chromedriver\\win32\\87.0.4280.88\\chromedriver.exe] found in cache\n"
     ]
    },
    {
     "name": "stdout",
     "output_type": "stream",
     "text": [
      "https://www.perfectcorp.com/business/faq complete on 2020-12-24 12:55:32.065940\n",
      " \n"
     ]
    },
    {
     "name": "stderr",
     "output_type": "stream",
     "text": [
      "[WDM] - Current google-chrome version is 87.0.4280\n",
      "[WDM] - Get LATEST driver version for 87.0.4280\n",
      "[WDM] - Driver [C:\\Users\\jenny.chou\\.wdm\\drivers\\chromedriver\\win32\\87.0.4280.88\\chromedriver.exe] found in cache\n"
     ]
    },
    {
     "name": "stdout",
     "output_type": "stream",
     "text": [
      "https://www.perfectcorp.com/business/info/aboutus complete on 2020-12-24 12:55:37.288578\n",
      " \n"
     ]
    },
    {
     "name": "stderr",
     "output_type": "stream",
     "text": [
      "[WDM] - Current google-chrome version is 87.0.4280\n",
      "[WDM] - Get LATEST driver version for 87.0.4280\n",
      "[WDM] - Driver [C:\\Users\\jenny.chou\\.wdm\\drivers\\chromedriver\\win32\\87.0.4280.88\\chromedriver.exe] found in cache\n"
     ]
    },
    {
     "name": "stdout",
     "output_type": "stream",
     "text": [
      "https://www.perfectcorp.com/business/info/awards complete on 2020-12-24 12:55:46.538805\n",
      " \n"
     ]
    },
    {
     "name": "stderr",
     "output_type": "stream",
     "text": [
      "[WDM] - Current google-chrome version is 87.0.4280\n",
      "[WDM] - Get LATEST driver version for 87.0.4280\n",
      "[WDM] - Driver [C:\\Users\\jenny.chou\\.wdm\\drivers\\chromedriver\\win32\\87.0.4280.88\\chromedriver.exe] found in cache\n"
     ]
    },
    {
     "name": "stdout",
     "output_type": "stream",
     "text": [
      "https://www.perfectcorp.com/business/news/list complete on 2020-12-24 12:55:52.801356\n",
      " \n"
     ]
    },
    {
     "name": "stderr",
     "output_type": "stream",
     "text": [
      "[WDM] - Current google-chrome version is 87.0.4280\n",
      "[WDM] - Get LATEST driver version for 87.0.4280\n",
      "[WDM] - Driver [C:\\Users\\jenny.chou\\.wdm\\drivers\\chromedriver\\win32\\87.0.4280.88\\chromedriver.exe] found in cache\n"
     ]
    },
    {
     "name": "stdout",
     "output_type": "stream",
     "text": [
      "https://www.perfectcorp.com/business/plan complete on 2020-12-24 12:56:08.325992\n",
      " \n"
     ]
    },
    {
     "name": "stderr",
     "output_type": "stream",
     "text": [
      "[WDM] - Current google-chrome version is 87.0.4280\n",
      "[WDM] - Get LATEST driver version for 87.0.4280\n",
      "[WDM] - Driver [C:\\Users\\jenny.chou\\.wdm\\drivers\\chromedriver\\win32\\87.0.4280.88\\chromedriver.exe] found in cache\n"
     ]
    },
    {
     "name": "stdout",
     "output_type": "stream",
     "text": [
      "https://www.perfectcorp.com/business/privacy complete on 2020-12-24 12:56:13.653688\n",
      " \n"
     ]
    },
    {
     "name": "stderr",
     "output_type": "stream",
     "text": [
      "[WDM] - Current google-chrome version is 87.0.4280\n",
      "[WDM] - Get LATEST driver version for 87.0.4280\n",
      "[WDM] - Driver [C:\\Users\\jenny.chou\\.wdm\\drivers\\chromedriver\\win32\\87.0.4280.88\\chromedriver.exe] found in cache\n"
     ]
    },
    {
     "name": "stdout",
     "output_type": "stream",
     "text": [
      "https://www.perfectcorp.com/business/products/ai-facial-recognition complete on 2020-12-24 12:56:19.921385\n",
      " \n"
     ]
    },
    {
     "name": "stderr",
     "output_type": "stream",
     "text": [
      "[WDM] - Current google-chrome version is 87.0.4280\n",
      "[WDM] - Get LATEST driver version for 87.0.4280\n",
      "[WDM] - Driver [C:\\Users\\jenny.chou\\.wdm\\drivers\\chromedriver\\win32\\87.0.4280.88\\chromedriver.exe] found in cache\n"
     ]
    },
    {
     "name": "stdout",
     "output_type": "stream",
     "text": [
      "https://www.perfectcorp.com/business/products/ai-product-recommendation complete on 2020-12-24 12:56:25.709986\n",
      " \n"
     ]
    },
    {
     "name": "stderr",
     "output_type": "stream",
     "text": [
      "[WDM] - Current google-chrome version is 87.0.4280\n",
      "[WDM] - Get LATEST driver version for 87.0.4280\n",
      "[WDM] - Driver [C:\\Users\\jenny.chou\\.wdm\\drivers\\chromedriver\\win32\\87.0.4280.88\\chromedriver.exe] found in cache\n"
     ]
    },
    {
     "name": "stdout",
     "output_type": "stream",
     "text": [
      "https://www.perfectcorp.com/business/products/ai-shade-finder complete on 2020-12-24 12:56:30.992308\n",
      " \n"
     ]
    },
    {
     "name": "stderr",
     "output_type": "stream",
     "text": [
      "[WDM] - Current google-chrome version is 87.0.4280\n",
      "[WDM] - Get LATEST driver version for 87.0.4280\n",
      "[WDM] - Driver [C:\\Users\\jenny.chou\\.wdm\\drivers\\chromedriver\\win32\\87.0.4280.88\\chromedriver.exe] found in cache\n"
     ]
    },
    {
     "name": "stdout",
     "output_type": "stream",
     "text": [
      "https://www.perfectcorp.com/business/products/ai-skin-diagnostic complete on 2020-12-24 12:56:37.175288\n",
      " \n"
     ]
    },
    {
     "name": "stderr",
     "output_type": "stream",
     "text": [
      "[WDM] - Current google-chrome version is 87.0.4280\n",
      "[WDM] - Get LATEST driver version for 87.0.4280\n",
      "[WDM] - Driver [C:\\Users\\jenny.chou\\.wdm\\drivers\\chromedriver\\win32\\87.0.4280.88\\chromedriver.exe] found in cache\n"
     ]
    },
    {
     "name": "stdout",
     "output_type": "stream",
     "text": [
      "https://www.perfectcorp.com/business/products/ba-1-on-1 complete on 2020-12-24 12:56:42.608731\n",
      " \n"
     ]
    },
    {
     "name": "stderr",
     "output_type": "stream",
     "text": [
      "[WDM] - Current google-chrome version is 87.0.4280\n",
      "[WDM] - Get LATEST driver version for 87.0.4280\n",
      "[WDM] - Driver [C:\\Users\\jenny.chou\\.wdm\\drivers\\chromedriver\\win32\\87.0.4280.88\\chromedriver.exe] found in cache\n"
     ]
    },
    {
     "name": "stdout",
     "output_type": "stream",
     "text": [
      "https://www.perfectcorp.com/business/products/in-store-barcode complete on 2020-12-24 12:57:00.744935\n",
      " \n"
     ]
    },
    {
     "name": "stderr",
     "output_type": "stream",
     "text": [
      "[WDM] - Current google-chrome version is 87.0.4280\n",
      "[WDM] - Get LATEST driver version for 87.0.4280\n",
      "[WDM] - Driver [C:\\Users\\jenny.chou\\.wdm\\drivers\\chromedriver\\win32\\87.0.4280.88\\chromedriver.exe] found in cache\n"
     ]
    },
    {
     "name": "stdout",
     "output_type": "stream",
     "text": [
      "https://www.perfectcorp.com/business/products/live-ar-training complete on 2020-12-24 12:57:06.167360\n",
      " \n"
     ]
    },
    {
     "name": "stderr",
     "output_type": "stream",
     "text": [
      "[WDM] - Current google-chrome version is 87.0.4280\n",
      "[WDM] - Get LATEST driver version for 87.0.4280\n",
      "[WDM] - Driver [C:\\Users\\jenny.chou\\.wdm\\drivers\\chromedriver\\win32\\87.0.4280.88\\chromedriver.exe] found in cache\n"
     ]
    },
    {
     "name": "stdout",
     "output_type": "stream",
     "text": [
      "https://www.perfectcorp.com/business/products/live-hair-color complete on 2020-12-24 12:57:11.649489\n",
      " \n"
     ]
    },
    {
     "name": "stderr",
     "output_type": "stream",
     "text": [
      "[WDM] - Current google-chrome version is 87.0.4280\n",
      "[WDM] - Get LATEST driver version for 87.0.4280\n",
      "[WDM] - Driver [C:\\Users\\jenny.chou\\.wdm\\drivers\\chromedriver\\win32\\87.0.4280.88\\chromedriver.exe] found in cache\n"
     ]
    },
    {
     "name": "stdout",
     "output_type": "stream",
     "text": [
      "https://www.perfectcorp.com/business/products/live-streaming complete on 2020-12-24 12:57:17.246171\n",
      " \n"
     ]
    },
    {
     "name": "stderr",
     "output_type": "stream",
     "text": [
      "[WDM] - Current google-chrome version is 87.0.4280\n",
      "[WDM] - Get LATEST driver version for 87.0.4280\n",
      "[WDM] - Driver [C:\\Users\\jenny.chou\\.wdm\\drivers\\chromedriver\\win32\\87.0.4280.88\\chromedriver.exe] found in cache\n"
     ]
    },
    {
     "name": "stdout",
     "output_type": "stream",
     "text": [
      "https://www.perfectcorp.com/business/products/virtual-accessories complete on 2020-12-24 12:57:23.420485\n",
      " \n"
     ]
    },
    {
     "name": "stderr",
     "output_type": "stream",
     "text": [
      "[WDM] - Current google-chrome version is 87.0.4280\n",
      "[WDM] - Get LATEST driver version for 87.0.4280\n",
      "[WDM] - Driver [C:\\Users\\jenny.chou\\.wdm\\drivers\\chromedriver\\win32\\87.0.4280.88\\chromedriver.exe] found in cache\n"
     ]
    },
    {
     "name": "stdout",
     "output_type": "stream",
     "text": [
      "https://www.perfectcorp.com/business/products/virtual-makeup complete on 2020-12-24 12:57:29.465105\n",
      " \n"
     ]
    },
    {
     "name": "stderr",
     "output_type": "stream",
     "text": [
      "[WDM] - Current google-chrome version is 87.0.4280\n",
      "[WDM] - Get LATEST driver version for 87.0.4280\n",
      "[WDM] - Driver [C:\\Users\\jenny.chou\\.wdm\\drivers\\chromedriver\\win32\\87.0.4280.88\\chromedriver.exe] found in cache\n"
     ]
    },
    {
     "name": "stdout",
     "output_type": "stream",
     "text": [
      "https://www.perfectcorp.com/business/services/app-listing complete on 2020-12-24 12:57:35.336179\n",
      " \n"
     ]
    },
    {
     "name": "stderr",
     "output_type": "stream",
     "text": [
      "[WDM] - Current google-chrome version is 87.0.4280\n",
      "[WDM] - Get LATEST driver version for 87.0.4280\n",
      "[WDM] - Driver [C:\\Users\\jenny.chou\\.wdm\\drivers\\chromedriver\\win32\\87.0.4280.88\\chromedriver.exe] found in cache\n"
     ]
    },
    {
     "name": "stdout",
     "output_type": "stream",
     "text": [
      "https://www.perfectcorp.com/business/services/facebook-ar-chatbot complete on 2020-12-24 12:57:41.334228\n",
      " \n"
     ]
    },
    {
     "name": "stderr",
     "output_type": "stream",
     "text": [
      "[WDM] - Current google-chrome version is 87.0.4280\n",
      "[WDM] - Get LATEST driver version for 87.0.4280\n",
      "[WDM] - Driver [C:\\Users\\jenny.chou\\.wdm\\drivers\\chromedriver\\win32\\87.0.4280.88\\chromedriver.exe] found in cache\n"
     ]
    },
    {
     "name": "stdout",
     "output_type": "stream",
     "text": [
      "https://www.perfectcorp.com/business/services/in-store-consultation complete on 2020-12-24 12:58:01.840780\n",
      " \n"
     ]
    },
    {
     "name": "stderr",
     "output_type": "stream",
     "text": [
      "[WDM] - Current google-chrome version is 87.0.4280\n",
      "[WDM] - Get LATEST driver version for 87.0.4280\n",
      "[WDM] - Driver [C:\\Users\\jenny.chou\\.wdm\\drivers\\chromedriver\\win32\\87.0.4280.88\\chromedriver.exe] found in cache\n"
     ]
    },
    {
     "name": "stdout",
     "output_type": "stream",
     "text": [
      "https://www.perfectcorp.com/business/services/sdk complete on 2020-12-24 12:58:07.115747\n",
      " \n"
     ]
    },
    {
     "name": "stderr",
     "output_type": "stream",
     "text": [
      "[WDM] - Current google-chrome version is 87.0.4280\n",
      "[WDM] - Get LATEST driver version for 87.0.4280\n",
      "[WDM] - Driver [C:\\Users\\jenny.chou\\.wdm\\drivers\\chromedriver\\win32\\87.0.4280.88\\chromedriver.exe] found in cache\n"
     ]
    },
    {
     "name": "stdout",
     "output_type": "stream",
     "text": [
      "https://www.perfectcorp.com/business/services/wechat-mini-program complete on 2020-12-24 12:58:13.392726\n",
      " \n"
     ]
    },
    {
     "name": "stderr",
     "output_type": "stream",
     "text": [
      "[WDM] - Current google-chrome version is 87.0.4280\n",
      "[WDM] - Get LATEST driver version for 87.0.4280\n",
      "[WDM] - Driver [C:\\Users\\jenny.chou\\.wdm\\drivers\\chromedriver\\win32\\87.0.4280.88\\chromedriver.exe] found in cache\n"
     ]
    },
    {
     "name": "stdout",
     "output_type": "stream",
     "text": [
      "https://www.perfectcorp.com/business/services/taobao-mini-program complete on 2020-12-24 12:58:19.069128\n",
      " \n"
     ]
    },
    {
     "name": "stderr",
     "output_type": "stream",
     "text": [
      "[WDM] - Current google-chrome version is 87.0.4280\n",
      "[WDM] - Get LATEST driver version for 87.0.4280\n",
      "[WDM] - Driver [C:\\Users\\jenny.chou\\.wdm\\drivers\\chromedriver\\win32\\87.0.4280.88\\chromedriver.exe] found in cache\n"
     ]
    },
    {
     "name": "stdout",
     "output_type": "stream",
     "text": [
      "https://www.perfectcorp.com/business/services/youcam-4-web complete on 2020-12-24 12:58:24.267684\n",
      " \n"
     ]
    },
    {
     "name": "stderr",
     "output_type": "stream",
     "text": [
      "[WDM] - Current google-chrome version is 87.0.4280\n",
      "[WDM] - Get LATEST driver version for 87.0.4280\n",
      "[WDM] - Driver [C:\\Users\\jenny.chou\\.wdm\\drivers\\chromedriver\\win32\\87.0.4280.88\\chromedriver.exe] found in cache\n"
     ]
    },
    {
     "name": "stdout",
     "output_type": "stream",
     "text": [
      "https://www.perfectcorp.com/business/showcase/look complete on 2020-12-24 12:58:33.331464\n",
      " \n"
     ]
    },
    {
     "name": "stderr",
     "output_type": "stream",
     "text": [
      "[WDM] - Current google-chrome version is 87.0.4280\n",
      "[WDM] - Get LATEST driver version for 87.0.4280\n",
      "[WDM] - Driver [C:\\Users\\jenny.chou\\.wdm\\drivers\\chromedriver\\win32\\87.0.4280.88\\chromedriver.exe] found in cache\n"
     ]
    },
    {
     "name": "stdout",
     "output_type": "stream",
     "text": [
      "https://www.perfectcorp.com/business/showcase/shadefinder/home complete on 2020-12-24 12:58:38.946332\n",
      " \n"
     ]
    },
    {
     "name": "stderr",
     "output_type": "stream",
     "text": [
      "[WDM] - Current google-chrome version is 87.0.4280\n",
      "[WDM] - Get LATEST driver version for 87.0.4280\n",
      "[WDM] - Driver [C:\\Users\\jenny.chou\\.wdm\\drivers\\chromedriver\\win32\\87.0.4280.88\\chromedriver.exe] found in cache\n"
     ]
    },
    {
     "name": "stdout",
     "output_type": "stream",
     "text": [
      "https://www.perfectcorp.com/business/showcase/skincare/home complete on 2020-12-24 12:58:55.107298\n",
      " \n"
     ]
    },
    {
     "name": "stderr",
     "output_type": "stream",
     "text": [
      "[WDM] - Current google-chrome version is 87.0.4280\n",
      "[WDM] - Get LATEST driver version for 87.0.4280\n",
      "[WDM] - Driver [C:\\Users\\jenny.chou\\.wdm\\drivers\\chromedriver\\win32\\87.0.4280.88\\chromedriver.exe] found in cache\n"
     ]
    },
    {
     "name": "stdout",
     "output_type": "stream",
     "text": [
      "https://www.perfectcorp.com/business/showcase/lip-color complete on 2020-12-24 12:59:00.606273\n",
      " \n"
     ]
    },
    {
     "name": "stderr",
     "output_type": "stream",
     "text": [
      "[WDM] - Current google-chrome version is 87.0.4280\n",
      "[WDM] - Get LATEST driver version for 87.0.4280\n",
      "[WDM] - Driver [C:\\Users\\jenny.chou\\.wdm\\drivers\\chromedriver\\win32\\87.0.4280.88\\chromedriver.exe] found in cache\n"
     ]
    },
    {
     "name": "stdout",
     "output_type": "stream",
     "text": [
      "https://www.perfectcorp.com/business/showcase/live-shows complete on 2020-12-24 12:59:11.305747\n",
      " \n"
     ]
    },
    {
     "name": "stderr",
     "output_type": "stream",
     "text": [
      "[WDM] - Current google-chrome version is 87.0.4280\n",
      "[WDM] - Get LATEST driver version for 87.0.4280\n",
      "[WDM] - Driver [C:\\Users\\jenny.chou\\.wdm\\drivers\\chromedriver\\win32\\87.0.4280.88\\chromedriver.exe] found in cache\n"
     ]
    },
    {
     "name": "stdout",
     "output_type": "stream",
     "text": [
      "https://www.perfectcorp.com/business/showcase/eye-color complete on 2020-12-24 12:59:16.880533\n",
      " \n"
     ]
    },
    {
     "name": "stderr",
     "output_type": "stream",
     "text": [
      "[WDM] - Current google-chrome version is 87.0.4280\n",
      "[WDM] - Get LATEST driver version for 87.0.4280\n",
      "[WDM] - Driver [C:\\Users\\jenny.chou\\.wdm\\drivers\\chromedriver\\win32\\87.0.4280.88\\chromedriver.exe] found in cache\n"
     ]
    },
    {
     "name": "stdout",
     "output_type": "stream",
     "text": [
      "https://www.perfectcorp.com/business/showcase/eyelashes complete on 2020-12-24 12:59:26.127521\n",
      " \n"
     ]
    },
    {
     "name": "stderr",
     "output_type": "stream",
     "text": [
      "[WDM] - Current google-chrome version is 87.0.4280\n",
      "[WDM] - Get LATEST driver version for 87.0.4280\n",
      "[WDM] - Driver [C:\\Users\\jenny.chou\\.wdm\\drivers\\chromedriver\\win32\\87.0.4280.88\\chromedriver.exe] found in cache\n"
     ]
    },
    {
     "name": "stdout",
     "output_type": "stream",
     "text": [
      "https://www.perfectcorp.com/business/showcase/eye-liner complete on 2020-12-24 12:59:45.301493\n",
      " \n"
     ]
    },
    {
     "name": "stderr",
     "output_type": "stream",
     "text": [
      "[WDM] - Current google-chrome version is 87.0.4280\n",
      "[WDM] - Get LATEST driver version for 87.0.4280\n",
      "[WDM] - Driver [C:\\Users\\jenny.chou\\.wdm\\drivers\\chromedriver\\win32\\87.0.4280.88\\chromedriver.exe] found in cache\n"
     ]
    },
    {
     "name": "stdout",
     "output_type": "stream",
     "text": [
      "https://www.perfectcorp.com/business/showcase/eye-wear complete on 2020-12-24 12:59:54.442570\n",
      " \n"
     ]
    },
    {
     "name": "stderr",
     "output_type": "stream",
     "text": [
      "[WDM] - Current google-chrome version is 87.0.4280\n",
      "[WDM] - Get LATEST driver version for 87.0.4280\n",
      "[WDM] - Driver [C:\\Users\\jenny.chou\\.wdm\\drivers\\chromedriver\\win32\\87.0.4280.88\\chromedriver.exe] found in cache\n"
     ]
    },
    {
     "name": "stdout",
     "output_type": "stream",
     "text": [
      "https://www.perfectcorp.com/business/showcase/eye-shadow complete on 2020-12-24 13:00:03.634943\n",
      " \n"
     ]
    },
    {
     "name": "stderr",
     "output_type": "stream",
     "text": [
      "[WDM] - Current google-chrome version is 87.0.4280\n",
      "[WDM] - Get LATEST driver version for 87.0.4280\n",
      "[WDM] - Driver [C:\\Users\\jenny.chou\\.wdm\\drivers\\chromedriver\\win32\\87.0.4280.88\\chromedriver.exe] found in cache\n"
     ]
    },
    {
     "name": "stdout",
     "output_type": "stream",
     "text": [
      "https://www.perfectcorp.com/business/showcase/blush complete on 2020-12-24 13:00:12.845024\n",
      " \n"
     ]
    },
    {
     "name": "stderr",
     "output_type": "stream",
     "text": [
      "[WDM] - Current google-chrome version is 87.0.4280\n",
      "[WDM] - Get LATEST driver version for 87.0.4280\n",
      "[WDM] - Driver [C:\\Users\\jenny.chou\\.wdm\\drivers\\chromedriver\\win32\\87.0.4280.88\\chromedriver.exe] found in cache\n"
     ]
    },
    {
     "name": "stdout",
     "output_type": "stream",
     "text": [
      "https://www.perfectcorp.com/business/showcase/foundation complete on 2020-12-24 13:00:18.668948\n",
      " \n"
     ]
    },
    {
     "name": "stderr",
     "output_type": "stream",
     "text": [
      "[WDM] - Current google-chrome version is 87.0.4280\n",
      "[WDM] - Get LATEST driver version for 87.0.4280\n",
      "[WDM] - Driver [C:\\Users\\jenny.chou\\.wdm\\drivers\\chromedriver\\win32\\87.0.4280.88\\chromedriver.exe] found in cache\n"
     ]
    },
    {
     "name": "stdout",
     "output_type": "stream",
     "text": [
      "https://www.perfectcorp.com/business/showcase/hair-color complete on 2020-12-24 13:00:35.813286\n",
      " \n"
     ]
    },
    {
     "name": "stderr",
     "output_type": "stream",
     "text": [
      "[WDM] - Current google-chrome version is 87.0.4280\n",
      "[WDM] - Get LATEST driver version for 87.0.4280\n",
      "[WDM] - Driver [C:\\Users\\jenny.chou\\.wdm\\drivers\\chromedriver\\win32\\87.0.4280.88\\chromedriver.exe] found in cache\n"
     ]
    },
    {
     "name": "stdout",
     "output_type": "stream",
     "text": [
      "https://www.perfectcorp.com/business/solutions/enterprise complete on 2020-12-24 13:01:01.925366\n",
      " \n"
     ]
    },
    {
     "name": "stderr",
     "output_type": "stream",
     "text": [
      "[WDM] - Current google-chrome version is 87.0.4280\n",
      "[WDM] - Get LATEST driver version for 87.0.4280\n",
      "[WDM] - Driver [C:\\Users\\jenny.chou\\.wdm\\drivers\\chromedriver\\win32\\87.0.4280.88\\chromedriver.exe] found in cache\n"
     ]
    },
    {
     "name": "stdout",
     "output_type": "stream",
     "text": [
      "https://www.perfectcorp.com/business/solutions/smb complete on 2020-12-24 13:01:11.228970\n",
      " \n"
     ]
    },
    {
     "name": "stderr",
     "output_type": "stream",
     "text": [
      "[WDM] - Current google-chrome version is 87.0.4280\n",
      "[WDM] - Get LATEST driver version for 87.0.4280\n",
      "[WDM] - Driver [C:\\Users\\jenny.chou\\.wdm\\drivers\\chromedriver\\win32\\87.0.4280.88\\chromedriver.exe] found in cache\n"
     ]
    },
    {
     "name": "stdout",
     "output_type": "stream",
     "text": [
      "https://www.perfectcorp.com/business/successstory/list complete on 2020-12-24 13:01:17.211426\n",
      " \n"
     ]
    },
    {
     "name": "stderr",
     "output_type": "stream",
     "text": [
      "[WDM] - Current google-chrome version is 87.0.4280\n",
      "[WDM] - Get LATEST driver version for 87.0.4280\n",
      "[WDM] - Driver [C:\\Users\\jenny.chou\\.wdm\\drivers\\chromedriver\\win32\\87.0.4280.88\\chromedriver.exe] found in cache\n"
     ]
    },
    {
     "name": "stdout",
     "output_type": "stream",
     "text": [
      "https://www.perfectcorp.com/business/terms complete on 2020-12-24 13:01:22.585201\n",
      " \n"
     ]
    },
    {
     "name": "stderr",
     "output_type": "stream",
     "text": [
      "[WDM] - Current google-chrome version is 87.0.4280\n",
      "[WDM] - Get LATEST driver version for 87.0.4280\n",
      "[WDM] - Driver [C:\\Users\\jenny.chou\\.wdm\\drivers\\chromedriver\\win32\\87.0.4280.88\\chromedriver.exe] found in cache\n"
     ]
    },
    {
     "name": "stdout",
     "output_type": "stream",
     "text": [
      "https://www.perfectcorp.com/business/user/forgot-password complete on 2020-12-24 13:01:34.014716\n",
      " \n"
     ]
    },
    {
     "name": "stderr",
     "output_type": "stream",
     "text": [
      "[WDM] - Current google-chrome version is 87.0.4280\n",
      "[WDM] - Get LATEST driver version for 87.0.4280\n",
      "[WDM] - Driver [C:\\Users\\jenny.chou\\.wdm\\drivers\\chromedriver\\win32\\87.0.4280.88\\chromedriver.exe] found in cache\n"
     ]
    },
    {
     "name": "stdout",
     "output_type": "stream",
     "text": [
      "https://www.perfectcorp.com/business/user/free-trial complete on 2020-12-24 13:01:40.314662\n",
      " \n"
     ]
    },
    {
     "name": "stderr",
     "output_type": "stream",
     "text": [
      "[WDM] - Current google-chrome version is 87.0.4280\n",
      "[WDM] - Get LATEST driver version for 87.0.4280\n",
      "[WDM] - Driver [C:\\Users\\jenny.chou\\.wdm\\drivers\\chromedriver\\win32\\87.0.4280.88\\chromedriver.exe] found in cache\n"
     ]
    },
    {
     "name": "stdout",
     "output_type": "stream",
     "text": [
      "https://www.perfectcorp.com/business/user/free-trial?subscriptionType=ESSENTIAL_TRIAL complete on 2020-12-24 13:01:45.563316\n",
      " \n"
     ]
    },
    {
     "name": "stderr",
     "output_type": "stream",
     "text": [
      "[WDM] - Current google-chrome version is 87.0.4280\n",
      "[WDM] - Get LATEST driver version for 87.0.4280\n",
      "[WDM] - Driver [C:\\Users\\jenny.chou\\.wdm\\drivers\\chromedriver\\win32\\87.0.4280.88\\chromedriver.exe] found in cache\n"
     ]
    },
    {
     "name": "stdout",
     "output_type": "stream",
     "text": [
      "https://www.perfectcorp.com/business/user/free-trial?subscriptionType=PREMIUM_TRIAL complete on 2020-12-24 13:01:51.023300\n",
      " \n"
     ]
    },
    {
     "name": "stderr",
     "output_type": "stream",
     "text": [
      "[WDM] - Current google-chrome version is 87.0.4280\n",
      "[WDM] - Get LATEST driver version for 87.0.4280\n",
      "[WDM] - Driver [C:\\Users\\jenny.chou\\.wdm\\drivers\\chromedriver\\win32\\87.0.4280.88\\chromedriver.exe] found in cache\n"
     ]
    },
    {
     "name": "stdout",
     "output_type": "stream",
     "text": [
      "https://www.perfectcorp.com/business/user/setup-password complete on 2020-12-24 13:01:57.076106\n",
      " \n"
     ]
    },
    {
     "name": "stderr",
     "output_type": "stream",
     "text": [
      "[WDM] - Current google-chrome version is 87.0.4280\n",
      "[WDM] - Get LATEST driver version for 87.0.4280\n",
      "[WDM] - Driver [C:\\Users\\jenny.chou\\.wdm\\drivers\\chromedriver\\win32\\87.0.4280.88\\chromedriver.exe] found in cache\n"
     ]
    },
    {
     "name": "stdout",
     "output_type": "stream",
     "text": [
      "https://www.perfectcorp.com/business/user/sign-in complete on 2020-12-24 13:02:02.928397\n",
      " \n"
     ]
    },
    {
     "name": "stderr",
     "output_type": "stream",
     "text": [
      "[WDM] - Current google-chrome version is 87.0.4280\n",
      "[WDM] - Get LATEST driver version for 87.0.4280\n",
      "[WDM] - Driver [C:\\Users\\jenny.chou\\.wdm\\drivers\\chromedriver\\win32\\87.0.4280.88\\chromedriver.exe] found in cache\n"
     ]
    },
    {
     "name": "stdout",
     "output_type": "stream",
     "text": [
      "https://www.perfectcorp.com/business/user/sign-up complete on 2020-12-24 13:02:18.278809\n",
      " \n"
     ]
    },
    {
     "name": "stderr",
     "output_type": "stream",
     "text": [
      "[WDM] - Current google-chrome version is 87.0.4280\n",
      "[WDM] - Get LATEST driver version for 87.0.4280\n",
      "[WDM] - Driver [C:\\Users\\jenny.chou\\.wdm\\drivers\\chromedriver\\win32\\87.0.4280.88\\chromedriver.exe] found in cache\n"
     ]
    },
    {
     "name": "stdout",
     "output_type": "stream",
     "text": [
      "https://www.perfectcorp.com/business/user/sign-up?subscriptionType=ESSENTIAL complete on 2020-12-24 13:02:23.900442\n",
      " \n"
     ]
    },
    {
     "name": "stderr",
     "output_type": "stream",
     "text": [
      "[WDM] - Current google-chrome version is 87.0.4280\n",
      "[WDM] - Get LATEST driver version for 87.0.4280\n",
      "[WDM] - Driver [C:\\Users\\jenny.chou\\.wdm\\drivers\\chromedriver\\win32\\87.0.4280.88\\chromedriver.exe] found in cache\n"
     ]
    },
    {
     "name": "stdout",
     "output_type": "stream",
     "text": [
      "https://www.perfectcorp.com/business/user/sign-up?subscriptionType=ESSENTIAL&recurringType=ANNUAL&currencyType=USD complete on 2020-12-24 13:02:29.007797\n",
      " \n"
     ]
    },
    {
     "name": "stderr",
     "output_type": "stream",
     "text": [
      "[WDM] - Current google-chrome version is 87.0.4280\n",
      "[WDM] - Get LATEST driver version for 87.0.4280\n",
      "[WDM] - Driver [C:\\Users\\jenny.chou\\.wdm\\drivers\\chromedriver\\win32\\87.0.4280.88\\chromedriver.exe] found in cache\n"
     ]
    },
    {
     "name": "stdout",
     "output_type": "stream",
     "text": [
      "https://www.perfectcorp.com/business/user/sign-up?subscriptionType=ESSENTIAL&recurringType=QUARTER&currencyType=USD complete on 2020-12-24 13:02:34.448020\n",
      " \n"
     ]
    },
    {
     "name": "stderr",
     "output_type": "stream",
     "text": [
      "[WDM] - Current google-chrome version is 87.0.4280\n",
      "[WDM] - Get LATEST driver version for 87.0.4280\n",
      "[WDM] - Driver [C:\\Users\\jenny.chou\\.wdm\\drivers\\chromedriver\\win32\\87.0.4280.88\\chromedriver.exe] found in cache\n"
     ]
    },
    {
     "name": "stdout",
     "output_type": "stream",
     "text": [
      "https://www.perfectcorp.com/business/user/sign-up?subscriptionType=PREMIUM complete on 2020-12-24 13:02:39.951903\n",
      " \n"
     ]
    },
    {
     "name": "stderr",
     "output_type": "stream",
     "text": [
      "[WDM] - Current google-chrome version is 87.0.4280\n",
      "[WDM] - Get LATEST driver version for 87.0.4280\n",
      "[WDM] - Driver [C:\\Users\\jenny.chou\\.wdm\\drivers\\chromedriver\\win32\\87.0.4280.88\\chromedriver.exe] found in cache\n"
     ]
    },
    {
     "name": "stdout",
     "output_type": "stream",
     "text": [
      "https://www.perfectcorp.com/business/user/sign-up?subscriptionType=PREMIUM&recurringType=ANNUAL&currencyType=USD complete on 2020-12-24 13:02:57.182053\n",
      " \n"
     ]
    },
    {
     "name": "stderr",
     "output_type": "stream",
     "text": [
      "[WDM] - Current google-chrome version is 87.0.4280\n",
      "[WDM] - Get LATEST driver version for 87.0.4280\n",
      "[WDM] - Driver [C:\\Users\\jenny.chou\\.wdm\\drivers\\chromedriver\\win32\\87.0.4280.88\\chromedriver.exe] found in cache\n"
     ]
    },
    {
     "name": "stdout",
     "output_type": "stream",
     "text": [
      "https://www.perfectcorp.com/business/user/sign-up?subscriptionType=PREMIUM&recurringType=QUARTER&amp;currencyType=USD complete on 2020-12-24 13:03:03.184252\n",
      " \n"
     ]
    },
    {
     "name": "stderr",
     "output_type": "stream",
     "text": [
      "[WDM] - Current google-chrome version is 87.0.4280\n",
      "[WDM] - Get LATEST driver version for 87.0.4280\n",
      "[WDM] - Driver [C:\\Users\\jenny.chou\\.wdm\\drivers\\chromedriver\\win32\\87.0.4280.88\\chromedriver.exe] found in cache\n"
     ]
    },
    {
     "name": "stdout",
     "output_type": "stream",
     "text": [
      "https://www.perfectcorp.com/business/videos complete on 2020-12-24 13:03:09.730541\n",
      " \n"
     ]
    },
    {
     "name": "stderr",
     "output_type": "stream",
     "text": [
      "[WDM] - Current google-chrome version is 87.0.4280\n",
      "[WDM] - Get LATEST driver version for 87.0.4280\n",
      "[WDM] - Driver [C:\\Users\\jenny.chou\\.wdm\\drivers\\chromedriver\\win32\\87.0.4280.88\\chromedriver.exe] found in cache\n"
     ]
    },
    {
     "name": "stdout",
     "output_type": "stream",
     "text": [
      "https://www.perfectcorp.com/business/blog complete on 2020-12-24 13:03:16.345092\n",
      " \n"
     ]
    },
    {
     "name": "stderr",
     "output_type": "stream",
     "text": [
      "[WDM] - Current google-chrome version is 87.0.4280\n",
      "[WDM] - Get LATEST driver version for 87.0.4280\n",
      "[WDM] - Driver [C:\\Users\\jenny.chou\\.wdm\\drivers\\chromedriver\\win32\\87.0.4280.88\\chromedriver.exe] found in cache\n"
     ]
    },
    {
     "name": "stdout",
     "output_type": "stream",
     "text": [
      "https://www.perfectcorp.com/business/blog/makeup/virtual-makeup-try-on-solutions-for-beauty-indie-brands complete on 2020-12-24 13:03:27.677060\n",
      " \n"
     ]
    },
    {
     "name": "stderr",
     "output_type": "stream",
     "text": [
      "[WDM] - Current google-chrome version is 87.0.4280\n",
      "[WDM] - Get LATEST driver version for 87.0.4280\n",
      "[WDM] - Driver [C:\\Users\\jenny.chou\\.wdm\\drivers\\chromedriver\\win32\\87.0.4280.88\\chromedriver.exe] found in cache\n"
     ]
    },
    {
     "name": "stdout",
     "output_type": "stream",
     "text": [
      "https://www.perfectcorp.com/business/blog/commerce/power-of-digital-first-beauty-community complete on 2020-12-24 13:03:33.082179\n",
      " \n"
     ]
    },
    {
     "name": "stderr",
     "output_type": "stream",
     "text": [
      "[WDM] - Current google-chrome version is 87.0.4280\n",
      "[WDM] - Get LATEST driver version for 87.0.4280\n",
      "[WDM] - Driver [C:\\Users\\jenny.chou\\.wdm\\drivers\\chromedriver\\win32\\87.0.4280.88\\chromedriver.exe] found in cache\n"
     ]
    },
    {
     "name": "stdout",
     "output_type": "stream",
     "text": [
      "https://www.perfectcorp.com/business/blog/retail/no-touch-solutions-for-beauty-retail complete on 2020-12-24 13:03:38.371642\n",
      " \n"
     ]
    },
    {
     "name": "stderr",
     "output_type": "stream",
     "text": [
      "[WDM] - Current google-chrome version is 87.0.4280\n",
      "[WDM] - Get LATEST driver version for 87.0.4280\n",
      "[WDM] - Driver [C:\\Users\\jenny.chou\\.wdm\\drivers\\chromedriver\\win32\\87.0.4280.88\\chromedriver.exe] found in cache\n"
     ]
    },
    {
     "name": "stdout",
     "output_type": "stream",
     "text": [
      "https://www.perfectcorp.com/business/blog/ai-skincare/how-ai-Innovation-is-creating-a-digital-skincare-experience complete on 2020-12-24 13:03:44.370018\n",
      " \n"
     ]
    },
    {
     "name": "stderr",
     "output_type": "stream",
     "text": [
      "[WDM] - Current google-chrome version is 87.0.4280\n",
      "[WDM] - Get LATEST driver version for 87.0.4280\n",
      "[WDM] - Driver [C:\\Users\\jenny.chou\\.wdm\\drivers\\chromedriver\\win32\\87.0.4280.88\\chromedriver.exe] found in cache\n"
     ]
    },
    {
     "name": "stdout",
     "output_type": "stream",
     "text": [
      "https://www.perfectcorp.com/business/blog/commerce/acquire-and-engage-customers-using-beauty-tech complete on 2020-12-24 13:03:50.429799\n",
      " \n"
     ]
    },
    {
     "name": "stderr",
     "output_type": "stream",
     "text": [
      "[WDM] - Current google-chrome version is 87.0.4280\n",
      "[WDM] - Get LATEST driver version for 87.0.4280\n",
      "[WDM] - Driver [C:\\Users\\jenny.chou\\.wdm\\drivers\\chromedriver\\win32\\87.0.4280.88\\chromedriver.exe] found in cache\n"
     ]
    },
    {
     "name": "stdout",
     "output_type": "stream",
     "text": [
      "https://www.perfectcorp.com/business/blog/commerce/the-surge-of-beauty-ar-in-e-commerce complete on 2020-12-24 13:03:56.488005\n",
      " \n"
     ]
    },
    {
     "name": "stderr",
     "output_type": "stream",
     "text": [
      "[WDM] - Current google-chrome version is 87.0.4280\n",
      "[WDM] - Get LATEST driver version for 87.0.4280\n",
      "[WDM] - Driver [C:\\Users\\jenny.chou\\.wdm\\drivers\\chromedriver\\win32\\87.0.4280.88\\chromedriver.exe] found in cache\n"
     ]
    },
    {
     "name": "stdout",
     "output_type": "stream",
     "text": [
      "https://www.perfectcorp.com/business/blog/on-demand-beauty-tech/digital-surge-in-remote-beauty-training-solutions complete on 2020-12-24 13:04:01.856746\n",
      " \n"
     ]
    },
    {
     "name": "stderr",
     "output_type": "stream",
     "text": [
      "[WDM] - Current google-chrome version is 87.0.4280\n",
      "[WDM] - Get LATEST driver version for 87.0.4280\n",
      "[WDM] - Driver [C:\\Users\\jenny.chou\\.wdm\\drivers\\chromedriver\\win32\\87.0.4280.88\\chromedriver.exe] found in cache\n"
     ]
    },
    {
     "name": "stdout",
     "output_type": "stream",
     "text": [
      "https://www.perfectcorp.com/business/blog/on-demand-beauty-tech/online-beauty-advisor-keeps-beauty-brands-connected-with-consumers complete on 2020-12-24 13:04:07.620165\n",
      " \n"
     ]
    },
    {
     "name": "stderr",
     "output_type": "stream",
     "text": [
      "[WDM] - Current google-chrome version is 87.0.4280\n",
      "[WDM] - Get LATEST driver version for 87.0.4280\n",
      "[WDM] - Driver [C:\\Users\\jenny.chou\\.wdm\\drivers\\chromedriver\\win32\\87.0.4280.88\\chromedriver.exe] found in cache\n"
     ]
    },
    {
     "name": "stdout",
     "output_type": "stream",
     "text": [
      "https://www.perfectcorp.com/business/blog/general/beauty-industry-overcoming-disruption-during-covid-19 complete on 2020-12-24 13:04:13.575639\n",
      " \n"
     ]
    },
    {
     "name": "stderr",
     "output_type": "stream",
     "text": [
      "[WDM] - Current google-chrome version is 87.0.4280\n",
      "[WDM] - Get LATEST driver version for 87.0.4280\n",
      "[WDM] - Driver [C:\\Users\\jenny.chou\\.wdm\\drivers\\chromedriver\\win32\\87.0.4280.88\\chromedriver.exe] found in cache\n"
     ]
    },
    {
     "name": "stdout",
     "output_type": "stream",
     "text": [
      "https://www.perfectcorp.com/consumer complete on 2020-12-24 13:04:18.936895\n",
      " \n"
     ]
    },
    {
     "name": "stderr",
     "output_type": "stream",
     "text": [
      "[WDM] - Current google-chrome version is 87.0.4280\n",
      "[WDM] - Get LATEST driver version for 87.0.4280\n"
     ]
    },
    {
     "name": "stdout",
     "output_type": "stream",
     "text": [
      "https://www.perfectcorp.com/consumer/about-us complete on 2020-12-24 13:04:24.213609\n",
      " \n"
     ]
    },
    {
     "name": "stderr",
     "output_type": "stream",
     "text": [
      "[WDM] - Driver [C:\\Users\\jenny.chou\\.wdm\\drivers\\chromedriver\\win32\\87.0.4280.88\\chromedriver.exe] found in cache\n",
      "[WDM] - Current google-chrome version is 87.0.4280\n",
      "[WDM] - Get LATEST driver version for 87.0.4280\n",
      "[WDM] - Driver [C:\\Users\\jenny.chou\\.wdm\\drivers\\chromedriver\\win32\\87.0.4280.88\\chromedriver.exe] found in cache\n"
     ]
    },
    {
     "name": "stdout",
     "output_type": "stream",
     "text": [
      "https://www.perfectcorp.com/consumer/appdownload complete on 2020-12-24 13:04:47.654232\n",
      " \n"
     ]
    },
    {
     "name": "stderr",
     "output_type": "stream",
     "text": [
      "[WDM] - Current google-chrome version is 87.0.4280\n",
      "[WDM] - Get LATEST driver version for 87.0.4280\n",
      "[WDM] - Driver [C:\\Users\\jenny.chou\\.wdm\\drivers\\chromedriver\\win32\\87.0.4280.88\\chromedriver.exe] found in cache\n"
     ]
    },
    {
     "name": "stdout",
     "output_type": "stream",
     "text": [
      "https://www.perfectcorp.com/consumer/apps complete on 2020-12-24 13:04:52.910944\n",
      " \n"
     ]
    },
    {
     "name": "stderr",
     "output_type": "stream",
     "text": [
      "[WDM] - Current google-chrome version is 87.0.4280\n",
      "[WDM] - Get LATEST driver version for 87.0.4280\n",
      "[WDM] - Driver [C:\\Users\\jenny.chou\\.wdm\\drivers\\chromedriver\\win32\\87.0.4280.88\\chromedriver.exe] found in cache\n"
     ]
    },
    {
     "name": "stdout",
     "output_type": "stream",
     "text": [
      "https://www.perfectcorp.com/consumer/apps/y4b complete on 2020-12-24 13:04:58.699325\n",
      " \n"
     ]
    },
    {
     "name": "stderr",
     "output_type": "stream",
     "text": [
      "[WDM] - Current google-chrome version is 87.0.4280\n",
      "[WDM] - Get LATEST driver version for 87.0.4280\n",
      "[WDM] - Driver [C:\\Users\\jenny.chou\\.wdm\\drivers\\chromedriver\\win32\\87.0.4280.88\\chromedriver.exe] found in cache\n"
     ]
    },
    {
     "name": "stdout",
     "output_type": "stream",
     "text": [
      "https://www.perfectcorp.com/consumer/apps/ycf complete on 2020-12-24 13:05:04.257471\n",
      " \n"
     ]
    },
    {
     "name": "stderr",
     "output_type": "stream",
     "text": [
      "[WDM] - Current google-chrome version is 87.0.4280\n",
      "[WDM] - Get LATEST driver version for 87.0.4280\n",
      "[WDM] - Driver [C:\\Users\\jenny.chou\\.wdm\\drivers\\chromedriver\\win32\\87.0.4280.88\\chromedriver.exe] found in cache\n"
     ]
    },
    {
     "name": "stdout",
     "output_type": "stream",
     "text": [
      "https://www.perfectcorp.com/consumer/apps/ycn complete on 2020-12-24 13:05:09.777013\n",
      " \n"
     ]
    },
    {
     "name": "stderr",
     "output_type": "stream",
     "text": [
      "[WDM] - Current google-chrome version is 87.0.4280\n",
      "[WDM] - Get LATEST driver version for 87.0.4280\n"
     ]
    },
    {
     "name": "stdout",
     "output_type": "stream",
     "text": [
      "https://www.perfectcorp.com/consumer/apps/ycp complete on 2020-12-24 13:05:15.069722\n",
      " \n"
     ]
    },
    {
     "name": "stderr",
     "output_type": "stream",
     "text": [
      "[WDM] - Driver [C:\\Users\\jenny.chou\\.wdm\\drivers\\chromedriver\\win32\\87.0.4280.88\\chromedriver.exe] found in cache\n",
      "[WDM] - Current google-chrome version is 87.0.4280\n",
      "[WDM] - Get LATEST driver version for 87.0.4280\n",
      "[WDM] - Driver [C:\\Users\\jenny.chou\\.wdm\\drivers\\chromedriver\\win32\\87.0.4280.88\\chromedriver.exe] found in cache\n"
     ]
    },
    {
     "name": "stdout",
     "output_type": "stream",
     "text": [
      "https://www.perfectcorp.com/consumer/apps/ycv complete on 2020-12-24 13:05:31.122588\n",
      " \n"
     ]
    },
    {
     "name": "stderr",
     "output_type": "stream",
     "text": [
      "[WDM] - Current google-chrome version is 87.0.4280\n",
      "[WDM] - Get LATEST driver version for 87.0.4280\n",
      "[WDM] - Driver [C:\\Users\\jenny.chou\\.wdm\\drivers\\chromedriver\\win32\\87.0.4280.88\\chromedriver.exe] found in cache\n"
     ]
    },
    {
     "name": "stdout",
     "output_type": "stream",
     "text": [
      "https://www.perfectcorp.com/consumer/apps/ymk complete on 2020-12-24 13:05:37.061173\n",
      " \n"
     ]
    },
    {
     "name": "stderr",
     "output_type": "stream",
     "text": [
      "[WDM] - Current google-chrome version is 87.0.4280\n",
      "[WDM] - Get LATEST driver version for 87.0.4280\n",
      "[WDM] - Driver [C:\\Users\\jenny.chou\\.wdm\\drivers\\chromedriver\\win32\\87.0.4280.88\\chromedriver.exe] found in cache\n"
     ]
    },
    {
     "name": "stdout",
     "output_type": "stream",
     "text": [
      "https://www.perfectcorp.com/consumer/contact-us complete on 2020-12-24 13:05:42.944719\n",
      " \n"
     ]
    },
    {
     "name": "stderr",
     "output_type": "stream",
     "text": [
      "[WDM] - Current google-chrome version is 87.0.4280\n",
      "[WDM] - Get LATEST driver version for 87.0.4280\n",
      "[WDM] - Driver [C:\\Users\\jenny.chou\\.wdm\\drivers\\chromedriver\\win32\\87.0.4280.88\\chromedriver.exe] found in cache\n"
     ]
    },
    {
     "name": "stdout",
     "output_type": "stream",
     "text": [
      "https://www.perfectcorp.com/consumer/news/list complete on 2020-12-24 13:05:48.091812\n",
      " \n"
     ]
    },
    {
     "name": "stderr",
     "output_type": "stream",
     "text": [
      "[WDM] - Current google-chrome version is 87.0.4280\n",
      "[WDM] - Get LATEST driver version for 87.0.4280\n",
      "[WDM] - Driver [C:\\Users\\jenny.chou\\.wdm\\drivers\\chromedriver\\win32\\87.0.4280.88\\chromedriver.exe] found in cache\n"
     ]
    },
    {
     "name": "stdout",
     "output_type": "stream",
     "text": [
      "https://www.perfectcorp.com/consumer/technologies complete on 2020-12-24 13:05:53.405088\n",
      " \n"
     ]
    },
    {
     "name": "stderr",
     "output_type": "stream",
     "text": [
      "[WDM] - Current google-chrome version is 87.0.4280\n",
      "[WDM] - Get LATEST driver version for 87.0.4280\n",
      "[WDM] - Driver [C:\\Users\\jenny.chou\\.wdm\\drivers\\chromedriver\\win32\\87.0.4280.88\\chromedriver.exe] found in cache\n"
     ]
    },
    {
     "name": "stdout",
     "output_type": "stream",
     "text": [
      "https://www.perfectcorp.com/consumer/technologies/face-ai complete on 2020-12-24 13:05:59.667319\n",
      " \n"
     ]
    },
    {
     "name": "stderr",
     "output_type": "stream",
     "text": [
      "[WDM] - Current google-chrome version is 87.0.4280\n",
      "[WDM] - Get LATEST driver version for 87.0.4280\n",
      "[WDM] - Driver [C:\\Users\\jenny.chou\\.wdm\\drivers\\chromedriver\\win32\\87.0.4280.88\\chromedriver.exe] found in cache\n"
     ]
    },
    {
     "name": "stdout",
     "output_type": "stream",
     "text": [
      "https://www.perfectcorp.com/consumer/technologies/face-detection-tracking complete on 2020-12-24 13:06:06.333813\n",
      " \n"
     ]
    },
    {
     "name": "stderr",
     "output_type": "stream",
     "text": [
      "[WDM] - Current google-chrome version is 87.0.4280\n",
      "[WDM] - Get LATEST driver version for 87.0.4280\n",
      "[WDM] - Driver [C:\\Users\\jenny.chou\\.wdm\\drivers\\chromedriver\\win32\\87.0.4280.88\\chromedriver.exe] found in cache\n"
     ]
    },
    {
     "name": "stdout",
     "output_type": "stream",
     "text": [
      "https://www.perfectcorp.com/consumer/technologies/live-3d-face-ar complete on 2020-12-24 13:06:25.923054\n",
      " \n"
     ]
    },
    {
     "name": "stderr",
     "output_type": "stream",
     "text": [
      "[WDM] - Current google-chrome version is 87.0.4280\n",
      "[WDM] - Get LATEST driver version for 87.0.4280\n",
      "[WDM] - Driver [C:\\Users\\jenny.chou\\.wdm\\drivers\\chromedriver\\win32\\87.0.4280.88\\chromedriver.exe] found in cache\n"
     ]
    },
    {
     "name": "stdout",
     "output_type": "stream",
     "text": [
      "https://www.perfectcorp.com/consumer/technologies/makeup-ar complete on 2020-12-24 13:06:32.119436\n",
      " \n"
     ]
    },
    {
     "name": "stderr",
     "output_type": "stream",
     "text": [
      "[WDM] - Current google-chrome version is 87.0.4280\n",
      "[WDM] - Get LATEST driver version for 87.0.4280\n",
      "[WDM] - Driver [C:\\Users\\jenny.chou\\.wdm\\drivers\\chromedriver\\win32\\87.0.4280.88\\chromedriver.exe] found in cache\n"
     ]
    },
    {
     "name": "stdout",
     "output_type": "stream",
     "text": [
      "https://www.perfectcorp.com/consumer/technologies/skincare-ar complete on 2020-12-24 13:06:37.754734\n",
      " \n"
     ]
    },
    {
     "name": "stderr",
     "output_type": "stream",
     "text": [
      "[WDM] - Current google-chrome version is 87.0.4280\n",
      "[WDM] - Get LATEST driver version for 87.0.4280\n",
      "[WDM] - Driver [C:\\Users\\jenny.chou\\.wdm\\drivers\\chromedriver\\win32\\87.0.4280.88\\chromedriver.exe] found in cache\n"
     ]
    },
    {
     "name": "stdout",
     "output_type": "stream",
     "text": [
      "https://www.perfectcorp.com/document-center/en/ complete on 2020-12-24 13:06:45.754294\n",
      " \n",
      "https://www.perfectcorp.com/document-center/ja/ complete on 2020-12-24 13:06:49.530715\n"
     ]
    }
   ],
   "source": [
    "title = []\n",
    "description = []\n",
    "\n",
    "for link in l:\n",
    "    driver = webdriver.Chrome(ChromeDriverManager().install())\n",
    "    driver.get(link) \n",
    "    html = driver.page_source\n",
    "    soup = BeautifulSoup(html,'lxml') \n",
    "    desc = soup.find('meta',attrs={'name':'description'})\n",
    "    title_name = soup.title.string\n",
    "    title.append(title_name)\n",
    "    if desc is None: ## not every page contain description\n",
    "        description.append('none')\n",
    "    else:\n",
    "        desc = desc.attrs['content']\n",
    "        description.append(desc)   \n",
    "#     print(title_name,'\\n',desc)\n",
    "    driver.close()\n",
    "    sleep(randint(1,3)/10) ## remember to sleep to prevent ban from the server\n",
    "    print(link,'complete on', datetime.now())"
   ]
  },
  {
   "cell_type": "code",
   "execution_count": 7,
   "metadata": {},
   "outputs": [
    {
     "data": {
      "text/html": [
       "<div>\n",
       "<style scoped>\n",
       "    .dataframe tbody tr th:only-of-type {\n",
       "        vertical-align: middle;\n",
       "    }\n",
       "\n",
       "    .dataframe tbody tr th {\n",
       "        vertical-align: top;\n",
       "    }\n",
       "\n",
       "    .dataframe thead th {\n",
       "        text-align: right;\n",
       "    }\n",
       "</style>\n",
       "<table border=\"1\" class=\"dataframe\">\n",
       "  <thead>\n",
       "    <tr style=\"text-align: right;\">\n",
       "      <th></th>\n",
       "      <th>Link</th>\n",
       "      <th>Title</th>\n",
       "      <th>Description</th>\n",
       "    </tr>\n",
       "  </thead>\n",
       "  <tbody>\n",
       "    <tr>\n",
       "      <th>0</th>\n",
       "      <td>https://www.perfectcorp.com/</td>\n",
       "      <td>Business Apps &amp; Solutions | PERFECT</td>\n",
       "      <td>Digitally upgrade your brand into the future w...</td>\n",
       "    </tr>\n",
       "    <tr>\n",
       "      <th>1</th>\n",
       "      <td>https://www.perfectcorp.com/business</td>\n",
       "      <td>Business Apps &amp; Solutions | PERFECT</td>\n",
       "      <td>Digitally upgrade your brand into the future w...</td>\n",
       "    </tr>\n",
       "    <tr>\n",
       "      <th>2</th>\n",
       "      <td>https://www.perfectcorp.com/business/beauty-te...</td>\n",
       "      <td>The Global Beauty Tech Master Series | PERFECT</td>\n",
       "      <td>Learn more about our expert-led monthly webina...</td>\n",
       "    </tr>\n",
       "    <tr>\n",
       "      <th>3</th>\n",
       "      <td>https://www.perfectcorp.com/business/color-list</td>\n",
       "      <td>Beauty Trend Report | PERFECT</td>\n",
       "      <td>Discover the latest global beauty trends with ...</td>\n",
       "    </tr>\n",
       "    <tr>\n",
       "      <th>4</th>\n",
       "      <td>https://www.perfectcorp.com/business/contact-us</td>\n",
       "      <td>Contact us | PERFECT</td>\n",
       "      <td>Contact Perfect Corp. to learn more about the ...</td>\n",
       "    </tr>\n",
       "    <tr>\n",
       "      <th>...</th>\n",
       "      <td>...</td>\n",
       "      <td>...</td>\n",
       "      <td>...</td>\n",
       "    </tr>\n",
       "    <tr>\n",
       "      <th>88</th>\n",
       "      <td>https://www.perfectcorp.com/consumer/technolog...</td>\n",
       "      <td>3D 即時試妝 | PERFECT</td>\n",
       "      <td>透過即時AR臉部偵測技術，讓你的五官精準定位，妝容精緻又服貼！</td>\n",
       "    </tr>\n",
       "    <tr>\n",
       "      <th>89</th>\n",
       "      <td>https://www.perfectcorp.com/consumer/technolog...</td>\n",
       "      <td>AR 彩妝 | PERFECT</td>\n",
       "      <td>創新3D AR科技，化妝品即時套妝，美麗不漏拍！</td>\n",
       "    </tr>\n",
       "    <tr>\n",
       "      <th>90</th>\n",
       "      <td>https://www.perfectcorp.com/consumer/technolog...</td>\n",
       "      <td>AR 護膚 | PERFECT</td>\n",
       "      <td>AI AR即時膚質檢測，讓你對肌膚皺紋、斑點、黑眼圈瞭若指掌，透過“美膚日記”功能，追蹤每天...</td>\n",
       "    </tr>\n",
       "    <tr>\n",
       "      <th>91</th>\n",
       "      <td>https://www.perfectcorp.com/document-center/en/</td>\n",
       "      <td>YouCam for Web Get Started – API Reference</td>\n",
       "      <td>none</td>\n",
       "    </tr>\n",
       "    <tr>\n",
       "      <th>92</th>\n",
       "      <td>https://www.perfectcorp.com/document-center/ja/</td>\n",
       "      <td>紹介 – API Reference</td>\n",
       "      <td>none</td>\n",
       "    </tr>\n",
       "  </tbody>\n",
       "</table>\n",
       "<p>93 rows × 3 columns</p>\n",
       "</div>"
      ],
      "text/plain": [
       "                                                 Link  \\\n",
       "0                        https://www.perfectcorp.com/   \n",
       "1                https://www.perfectcorp.com/business   \n",
       "2   https://www.perfectcorp.com/business/beauty-te...   \n",
       "3     https://www.perfectcorp.com/business/color-list   \n",
       "4     https://www.perfectcorp.com/business/contact-us   \n",
       "..                                                ...   \n",
       "88  https://www.perfectcorp.com/consumer/technolog...   \n",
       "89  https://www.perfectcorp.com/consumer/technolog...   \n",
       "90  https://www.perfectcorp.com/consumer/technolog...   \n",
       "91    https://www.perfectcorp.com/document-center/en/   \n",
       "92    https://www.perfectcorp.com/document-center/ja/   \n",
       "\n",
       "                                             Title  \\\n",
       "0              Business Apps & Solutions | PERFECT   \n",
       "1              Business Apps & Solutions | PERFECT   \n",
       "2   The Global Beauty Tech Master Series | PERFECT   \n",
       "3                    Beauty Trend Report | PERFECT   \n",
       "4                             Contact us | PERFECT   \n",
       "..                                             ...   \n",
       "88                               3D 即時試妝 | PERFECT   \n",
       "89                                 AR 彩妝 | PERFECT   \n",
       "90                                 AR 護膚 | PERFECT   \n",
       "91      YouCam for Web Get Started – API Reference   \n",
       "92                              紹介 – API Reference   \n",
       "\n",
       "                                          Description  \n",
       "0   Digitally upgrade your brand into the future w...  \n",
       "1   Digitally upgrade your brand into the future w...  \n",
       "2   Learn more about our expert-led monthly webina...  \n",
       "3   Discover the latest global beauty trends with ...  \n",
       "4   Contact Perfect Corp. to learn more about the ...  \n",
       "..                                                ...  \n",
       "88                    透過即時AR臉部偵測技術，讓你的五官精準定位，妝容精緻又服貼！  \n",
       "89                           創新3D AR科技，化妝品即時套妝，美麗不漏拍！  \n",
       "90  AI AR即時膚質檢測，讓你對肌膚皺紋、斑點、黑眼圈瞭若指掌，透過“美膚日記”功能，追蹤每天...  \n",
       "91                                               none  \n",
       "92                                               none  \n",
       "\n",
       "[93 rows x 3 columns]"
      ]
     },
     "execution_count": 7,
     "metadata": {},
     "output_type": "execute_result"
    }
   ],
   "source": [
    "## save data together as dataframe from lists\n",
    "df = pd.DataFrame(list(zip(l, title,description)), columns =['Link', 'Title','Description'])\n",
    "df"
   ]
  },
  {
   "cell_type": "code",
   "execution_count": 8,
   "metadata": {},
   "outputs": [],
   "source": [
    "### save data\n",
    "df.to_excel(\"website_metadata.xlsx\",index=False)"
   ]
  },
  {
   "cell_type": "code",
   "execution_count": null,
   "metadata": {},
   "outputs": [],
   "source": []
  }
 ],
 "metadata": {
  "kernelspec": {
   "display_name": "Python 3",
   "language": "python",
   "name": "python3"
  },
  "language_info": {
   "codemirror_mode": {
    "name": "ipython",
    "version": 3
   },
   "file_extension": ".py",
   "mimetype": "text/x-python",
   "name": "python",
   "nbconvert_exporter": "python",
   "pygments_lexer": "ipython3",
   "version": "3.7.6"
  }
 },
 "nbformat": 4,
 "nbformat_minor": 4
}
